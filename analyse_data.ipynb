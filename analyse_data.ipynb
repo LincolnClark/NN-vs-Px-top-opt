{
 "cells": [
  {
   "cell_type": "code",
   "execution_count": 6,
   "metadata": {},
   "outputs": [],
   "source": [
    "import numpy as np\n",
    "import matplotlib.pyplot as plt\n",
    "import pandas as pd"
   ]
  },
  {
   "cell_type": "markdown",
   "metadata": {},
   "source": [
    "# Read in the data"
   ]
  },
  {
   "cell_type": "code",
   "execution_count": null,
   "metadata": {},
   "outputs": [
    {
     "name": "stdout",
     "output_type": "stream",
     "text": [
      "1\n"
     ]
    }
   ],
   "source": [
    "NN_OTF = pd.read_csv(\"./Benchmark_results/NN_OTF_benchamrk.csv\")\n",
    "#NN_px_OTF = pd.read_csv(\"./Benchmark_results/NNpx_OTF_benchmark.csv\")\n",
    "\n",
    "N_OTF_benchmarks = np.sum(NN_OTF[\"Benchmark\"] == list(set(NN_OTF[\"Benchmark\"]))[0])\n",
    "print(N_OTF_benchmarks)\n",
    "\n",
    "OTF_str = [f\"\"\"{NN_OTF[\"Wavelength (nm)\"][i]}nm, {NN_OTF[\"NA\"][i]}NA\"\"\" \n",
    "            for i in N_OTF_benchmarks]"
   ]
  },
  {
   "cell_type": "markdown",
   "metadata": {},
   "source": [
    "# Plotting functions"
   ]
  },
  {
   "cell_type": "code",
   "execution_count": null,
   "metadata": {},
   "outputs": [],
   "source": []
  }
 ],
 "metadata": {
  "kernelspec": {
   "display_name": "base",
   "language": "python",
   "name": "python3"
  },
  "language_info": {
   "codemirror_mode": {
    "name": "ipython",
    "version": 3
   },
   "file_extension": ".py",
   "mimetype": "text/x-python",
   "name": "python",
   "nbconvert_exporter": "python",
   "pygments_lexer": "ipython3",
   "version": "3.7.4"
  }
 },
 "nbformat": 4,
 "nbformat_minor": 2
}
